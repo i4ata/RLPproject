{
 "cells": [
  {
   "cell_type": "code",
   "execution_count": 1,
   "id": "c207511c",
   "metadata": {},
   "outputs": [],
   "source": [
    "import numpy as nps\n",
    "import pandas as pd\n",
    "\n",
    "from scipy.stats import chi2_contingency"
   ]
  },
  {
   "cell_type": "code",
   "execution_count": 2,
   "id": "ec683ddf",
   "metadata": {},
   "outputs": [
    {
     "data": {
      "text/html": [
       "<div>\n",
       "<style scoped>\n",
       "    .dataframe tbody tr th:only-of-type {\n",
       "        vertical-align: middle;\n",
       "    }\n",
       "\n",
       "    .dataframe tbody tr th {\n",
       "        vertical-align: top;\n",
       "    }\n",
       "\n",
       "    .dataframe thead th {\n",
       "        text-align: right;\n",
       "    }\n",
       "</style>\n",
       "<table border=\"1\" class=\"dataframe\">\n",
       "  <thead>\n",
       "    <tr style=\"text-align: right;\">\n",
       "      <th></th>\n",
       "      <th>MCCwES</th>\n",
       "      <th>MCCwoES</th>\n",
       "      <th>MCCoff</th>\n",
       "    </tr>\n",
       "  </thead>\n",
       "  <tbody>\n",
       "    <tr>\n",
       "      <th>-2</th>\n",
       "      <td>19753</td>\n",
       "      <td>26685</td>\n",
       "      <td>52081</td>\n",
       "    </tr>\n",
       "    <tr>\n",
       "      <th>-1</th>\n",
       "      <td>466030</td>\n",
       "      <td>456094</td>\n",
       "      <td>444037</td>\n",
       "    </tr>\n",
       "    <tr>\n",
       "      <th>0</th>\n",
       "      <td>90342</td>\n",
       "      <td>90852</td>\n",
       "      <td>80827</td>\n",
       "    </tr>\n",
       "    <tr>\n",
       "      <th>1</th>\n",
       "      <td>404898</td>\n",
       "      <td>402268</td>\n",
       "      <td>382028</td>\n",
       "    </tr>\n",
       "    <tr>\n",
       "      <th>2</th>\n",
       "      <td>18977</td>\n",
       "      <td>24101</td>\n",
       "      <td>41027</td>\n",
       "    </tr>\n",
       "  </tbody>\n",
       "</table>\n",
       "</div>"
      ],
      "text/plain": [
       "    MCCwES  MCCwoES  MCCoff\n",
       "-2   19753    26685   52081\n",
       "-1  466030   456094  444037\n",
       " 0   90342    90852   80827\n",
       " 1  404898   402268  382028\n",
       " 2   18977    24101   41027"
      ]
     },
     "execution_count": 2,
     "metadata": {},
     "output_type": "execute_result"
    }
   ],
   "source": [
    "path = \"data/FinalEvaluation/MonteCarloControl\"\n",
    "data = np.array([np.load(path + \"WithExploringStartsFinal.npy\"), \n",
    "                 np.load(path + \"WithoutExploringStartFinal.npy\"), \n",
    "                 np.load(path + \"OffPolicyFinal.npy\")]).T \n",
    "                 \n",
    "\n",
    "df = pd.DataFrame(data, index = [-2,-1,0,1,2], columns = [\"MCCwES\", \"MCCwoES\", \"MCCoff\"])\n",
    "df"
   ]
  },
  {
   "cell_type": "code",
   "execution_count": 3,
   "id": "03b5c4fe",
   "metadata": {},
   "outputs": [],
   "source": [
    "def show_chi2(chi2):\n",
    "    print(\"Chi2 test statistic: \" + str(chi2[0]) + \"\\np-value: \" + str(chi2[1]) + \"\\ndof: \" + str(chi2[2]))"
   ]
  },
  {
   "cell_type": "code",
   "execution_count": 4,
   "id": "0e24d0f3",
   "metadata": {},
   "outputs": [
    {
     "name": "stdout",
     "output_type": "stream",
     "text": [
      "Chi2 test statistic: 29194.70527850419\n",
      "p-value: 0.0\n",
      "dof: 8\n"
     ]
    }
   ],
   "source": [
    "chi2 = chi2_contingency(df)\n",
    "show_chi2(chi2)"
   ]
  },
  {
   "cell_type": "code",
   "execution_count": 5,
   "id": "a8c6b24b",
   "metadata": {},
   "outputs": [
    {
     "name": "stdout",
     "output_type": "stream",
     "text": [
      "['MCCwoES', 'MCCoff']\n",
      "Chi2 test statistic: 13856.35601219465\n",
      "p-value: 0.0\n",
      "dof: 4\n",
      "\n",
      "['MCCwES', 'MCCoff']\n",
      "Chi2 test statistic: 24376.721831714167\n",
      "p-value: 0.0\n",
      "dof: 4\n",
      "\n",
      "['MCCwES', 'MCCwoES']\n",
      "Chi2 test statistic: 1761.320489131167\n",
      "p-value: 0.0\n",
      "dof: 4\n",
      "\n"
     ]
    }
   ],
   "source": [
    "for col in df.columns:\n",
    "    new_df = df.drop(columns = col)\n",
    "    chi2 = chi2_contingency(new_df)\n",
    "    print(list(map(str, new_df.columns)))\n",
    "    show_chi2(chi2)\n",
    "    print()"
   ]
  },
  {
   "cell_type": "code",
   "execution_count": 6,
   "id": "6ebf377d",
   "metadata": {},
   "outputs": [
    {
     "data": {
      "text/html": [
       "<div>\n",
       "<style scoped>\n",
       "    .dataframe tbody tr th:only-of-type {\n",
       "        vertical-align: middle;\n",
       "    }\n",
       "\n",
       "    .dataframe tbody tr th {\n",
       "        vertical-align: top;\n",
       "    }\n",
       "\n",
       "    .dataframe thead th {\n",
       "        text-align: right;\n",
       "    }\n",
       "</style>\n",
       "<table border=\"1\" class=\"dataframe\">\n",
       "  <thead>\n",
       "    <tr style=\"text-align: right;\">\n",
       "      <th></th>\n",
       "      <th>MCCwES</th>\n",
       "      <th>MCCwoES</th>\n",
       "      <th>MCCoff</th>\n",
       "    </tr>\n",
       "  </thead>\n",
       "  <tbody>\n",
       "    <tr>\n",
       "      <th>losses</th>\n",
       "      <td>485783</td>\n",
       "      <td>482779</td>\n",
       "      <td>496118</td>\n",
       "    </tr>\n",
       "    <tr>\n",
       "      <th>draws</th>\n",
       "      <td>90342</td>\n",
       "      <td>90852</td>\n",
       "      <td>80827</td>\n",
       "    </tr>\n",
       "    <tr>\n",
       "      <th>wins</th>\n",
       "      <td>423875</td>\n",
       "      <td>426369</td>\n",
       "      <td>423055</td>\n",
       "    </tr>\n",
       "  </tbody>\n",
       "</table>\n",
       "</div>"
      ],
      "text/plain": [
       "        MCCwES  MCCwoES  MCCoff\n",
       "losses  485783   482779  496118\n",
       "draws    90342    90852   80827\n",
       "wins    423875   426369  423055"
      ]
     },
     "execution_count": 6,
     "metadata": {},
     "output_type": "execute_result"
    }
   ],
   "source": [
    "df.iloc[1] = df.iloc[0] + df.iloc[1]\n",
    "df.iloc[3] = df.iloc[3] + df.iloc[4]\n",
    "df = df.drop(index = [-2,2])\n",
    "df.index = [\"losses\", \"draws\", \"wins\"]\n",
    "df"
   ]
  },
  {
   "cell_type": "code",
   "execution_count": 7,
   "id": "9239b229",
   "metadata": {},
   "outputs": [
    {
     "name": "stdout",
     "output_type": "stream",
     "text": [
      "Chi2 test statistic: 944.6831622913356\n",
      "p-value: 3.466030596461758e-203\n",
      "dof: 4\n"
     ]
    }
   ],
   "source": [
    "chi2 = chi2_contingency(df)\n",
    "show_chi2(chi2)"
   ]
  },
  {
   "cell_type": "code",
   "execution_count": 8,
   "id": "2099ea57",
   "metadata": {
    "scrolled": true
   },
   "outputs": [
    {
     "name": "stdout",
     "output_type": "stream",
     "text": [
      "['MCCwoES', 'MCCoff']\n",
      "Chi2 test statistic: 780.0926405105445\n",
      "p-value: 4.02749886282151e-170\n",
      "dof: 2\n",
      "\n",
      "['MCCwES', 'MCCoff']\n",
      "Chi2 test statistic: 638.4980030265551\n",
      "p-value: 2.2486418525946887e-139\n",
      "dof: 2\n",
      "\n",
      "['MCCwES', 'MCCwoES']\n",
      "Chi2 test statistic: 18.06798877739703\n",
      "p-value: 0.00011928506936569074\n",
      "dof: 2\n",
      "\n"
     ]
    }
   ],
   "source": [
    "for col in df.columns:\n",
    "    new_df = df.drop(columns = col)\n",
    "    chi2 = chi2_contingency(new_df)\n",
    "    print(list(map(str, new_df.columns)))\n",
    "    show_chi2(chi2)\n",
    "    print()"
   ]
  }
 ],
 "metadata": {
  "kernelspec": {
   "display_name": "Python 3 (ipykernel)",
   "language": "python",
   "name": "python3"
  },
  "language_info": {
   "codemirror_mode": {
    "name": "ipython",
    "version": 3
   },
   "file_extension": ".py",
   "mimetype": "text/x-python",
   "name": "python",
   "nbconvert_exporter": "python",
   "pygments_lexer": "ipython3",
   "version": "3.9.4"
  }
 },
 "nbformat": 4,
 "nbformat_minor": 5
}
