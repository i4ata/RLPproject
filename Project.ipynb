{
 "cells": [
  {
   "cell_type": "code",
   "execution_count": 22,
   "id": "66f18bf6",
   "metadata": {},
   "outputs": [],
   "source": [
    "from blackjack import BlackJack\n",
    "import numpy as np\n",
    "import random\n",
    "import matplotlib.pyplot as plt\n",
    "import pandas as pd\n",
    "\n",
    "from scipy.special import softmax\n",
    "\n",
    "pd.set_option('display.max_rows', 180)"
   ]
  },
  {
   "cell_type": "code",
   "execution_count": 6,
   "id": "813cacff",
   "metadata": {},
   "outputs": [],
   "source": [
    "#def choose_action(state, pi, epsilon, actions):\n",
    "#    \n",
    "#    if random.random() < epsilon:\n",
    "#        return np.random.choice(actions)\n",
    "#        \n",
    "#    return pi[state]"
   ]
  },
  {
   "cell_type": "code",
   "execution_count": 23,
   "id": "87691551",
   "metadata": {},
   "outputs": [
    {
     "name": "stdout",
     "output_type": "stream",
     "text": [
      "Object created\n",
      "0\n",
      "100000\n",
      "200000\n",
      "300000\n",
      "400000\n",
      "500000\n",
      "600000\n",
      "700000\n",
      "800000\n",
      "900000\n"
     ]
    }
   ],
   "source": [
    "game = BlackJack()\n",
    "epochs = 1_000_000\n",
    "alpha = .1\n",
    "\n",
    "actions = [\"hit\", \"stand\", \"double\"]\n",
    "\n",
    "Q = {state : {a : 0 for a in actions} for state in game.states}\n",
    "pi = {state : np.random.choice(actions) for state in game.states}\n",
    "N = {state : 0 for state in game.states}\n",
    "rewards = [0] * epochs\n",
    "\n",
    "for i in range(epochs):\n",
    "    \n",
    "    if i % (epochs / 10) == 0:\n",
    "        print(i)\n",
    "    \n",
    "    game.start()\n",
    "    first = True\n",
    "    \n",
    "    visited_states = []\n",
    "    performed_actions = []\n",
    "    \n",
    "    while game.player_hand_sum < 21: # while the player hasn't busted\n",
    "        \n",
    "        state = game.get_current_state()\n",
    "        \n",
    "        action = pi[state]\n",
    "        \n",
    "        if first:\n",
    "            #action = choose_action(state, pi, .5, actions) # facilitates exploring starts\n",
    "            action = np.random.choice(actions)\n",
    "            first = False\n",
    "        \n",
    "        visited_states.append(state)\n",
    "        performed_actions.append(action)\n",
    "        \n",
    "        if action == \"hit\":\n",
    "            game.hit()\n",
    "        elif action == \"stand\":\n",
    "            game.stand() # if we stand, the round ends\n",
    "            break\n",
    "        else:\n",
    "            game.double()\n",
    "            break\n",
    "    \n",
    "    reward = game.get_reward()\n",
    "    rewards[i] = reward\n",
    "    \n",
    "    for s, a in zip(visited_states, performed_actions):\n",
    "        \n",
    "        N[s] += 1 # count occurences of states\n",
    "        \n",
    "        # update the Q-value\n",
    "        Q[s][a] += (reward - Q[s][a]) / N[s]\n",
    "        #Q[s][a] += alpha * (reward - Q[s][a])\n",
    "        \n",
    "    for s in visited_states:\n",
    "        \n",
    "        # update the policy\n",
    "        pi[s] = max(Q[s], key = Q[s].get)\n",
    "    "
   ]
  },
  {
   "cell_type": "code",
   "execution_count": 24,
   "id": "67819c78",
   "metadata": {},
   "outputs": [],
   "source": [
    "def get_stats(game):\n",
    "    wins = game.wins + game.blackjacks\n",
    "    all_outcomes = wins + game.losses + game.draws\n",
    "    print(\"Winrate: \" + str(wins / all_outcomes))\n",
    "    print(\"Drawrate: \" + str(game.draws / all_outcomes))\n",
    "    print(\"Loserate: \" + str(game.losses / all_outcomes))\n",
    "    print(\"BlackJack chance: \" + str(game.blackjacks / all_outcomes))\n",
    "    print(\"Ws: \" + str(game.wins + game.blackjacks) + \"; Ls: \" + str(game.losses) + \n",
    "          \"; Draws: \" + str(game.draws) + \"; BlackJacks: \" + str(game.blackjacks))"
   ]
  },
  {
   "cell_type": "code",
   "execution_count": 25,
   "id": "674dae51",
   "metadata": {},
   "outputs": [],
   "source": [
    "sums = [a for (a,_,_) in pi]\n",
    "ace = [b for (_,b,_) in pi]\n",
    "card = [c for (_,_,c) in pi]\n",
    "ps = np.array(list((map(lambda x: list(softmax(x)), [list(qs.values()) for qs in list(Q.values())]))))\n",
    "\n",
    "df = pd.DataFrame({\"sum\" : sums, \"ace\" : ace, \"card\" : card, \n",
    "                   \"action\" : pi.values(), \"n\" : N.values()})"
   ]
  },
  {
   "cell_type": "code",
   "execution_count": 26,
   "id": "fad939f9",
   "metadata": {},
   "outputs": [],
   "source": [
    "with_ace = df[df[\"ace\"] == True][[\"sum\", \"card\", \"action\"]]\n",
    "no_ace = df[df[\"ace\"] == False][[\"sum\", \"card\", \"action\"]]\n",
    "\n",
    "with_ace['action'] = with_ace['action'].map({\"hit\" : \"red\", \"stand\" : \"blue\", \"double\" : \"green\"})\n",
    "no_ace['action'] = no_ace['action'].map({\"hit\" : \"red\", \"stand\" : \"blue\", \"double\" : \"green\"})"
   ]
  },
  {
   "cell_type": "code",
   "execution_count": 27,
   "id": "3db49ef9",
   "metadata": {},
   "outputs": [
    {
     "data": {
      "image/png": "[encoded data removed]",
      "text/plain": [
       "<Figure size 432x288 with 1 Axes>"
      ]
     },
     "metadata": {
      "needs_background": "light"
     },
     "output_type": "display_data"
    }
   ],
   "source": [
    "plt.scatter(with_ace[\"card\"], with_ace[\"sum\"], c = with_ace[\"action\"])\n",
    "plt.show()"
   ]
  },
  {
   "cell_type": "code",
   "execution_count": 28,
   "id": "5d6d97a1",
   "metadata": {},
   "outputs": [
    {
     "data": {
      "image/png": "[encoded data removed]",
      "text/plain": [
       "<Figure size 432x288 with 1 Axes>"
      ]
     },
     "metadata": {
      "needs_background": "light"
     },
     "output_type": "display_data"
    }
   ],
   "source": [
    "plt.scatter(no_ace[\"card\"], no_ace[\"sum\"], c = no_ace[\"action\"])\n",
    "plt.show()"
   ]
  },
  {
   "cell_type": "code",
   "execution_count": 29,
   "id": "85afbc6a",
   "metadata": {},
   "outputs": [
    {
     "name": "stdout",
     "output_type": "stream",
     "text": [
      "Object created\n"
     ]
    }
   ],
   "source": [
    "game_test = BlackJack()\n",
    "test_episodes = 1_000_000\n",
    "rewards = [0]*test_episodes\n",
    "\n",
    "for i in range(test_episodes):\n",
    "    \n",
    "    game_test.start()\n",
    "    \n",
    "    while game_test.player_hand_sum < 21: # while the player hasn't busted\n",
    "        \n",
    "        state = game_test.get_current_state()\n",
    "        \n",
    "        action = pi[state]\n",
    "        \n",
    "        if action == \"hit\":\n",
    "            game_test.hit()\n",
    "        elif action == \"stand\":\n",
    "            game_test.stand() # if we stand, the round ends\n",
    "            break\n",
    "        elif action == \"double\":\n",
    "            game_test.double()\n",
    "            break\n",
    "    rewards[i] = game_test.get_reward()"
   ]
  },
  {
   "cell_type": "code",
   "execution_count": 30,
   "id": "51bc0543",
   "metadata": {},
   "outputs": [
    {
     "name": "stdout",
     "output_type": "stream",
     "text": [
      "Winrate: 0.4385867910163685\n",
      "Drawrate: 0.08080319756376095\n",
      "Loserate: 0.4806100114198706\n",
      "BlackJack chance: 0.048344118766653975\n",
      "Ws: 460867; Ls: 505025; Draws: 84908; BlackJacks: 50800\n"
     ]
    }
   ],
   "source": [
    "get_stats(game_test)"
   ]
  },
  {
   "cell_type": "code",
   "execution_count": 31,
   "id": "aaf90a2d",
   "metadata": {},
   "outputs": [
    {
     "data": {
      "text/plain": [
       "(14064, 12282)"
      ]
     },
     "execution_count": 31,
     "metadata": {},
     "output_type": "execute_result"
    }
   ],
   "source": [
    "len(list(filter(lambda x: x == 2, rewards))), len(list(filter(lambda x: x == -2, rewards)))"
   ]
  },
  {
   "cell_type": "code",
   "execution_count": 32,
   "id": "c67ab0b7",
   "metadata": {},
   "outputs": [
    {
     "data": {
      "text/plain": [
       "-93176"
      ]
     },
     "execution_count": 32,
     "metadata": {},
     "output_type": "execute_result"
    }
   ],
   "source": [
    "sum(rewards)"
   ]
  },
  {
   "cell_type": "code",
   "execution_count": null,
   "id": "e2ac11e9",
   "metadata": {},
   "outputs": [],
   "source": []
  }
 ],
 "metadata": {
  "kernelspec": {
   "display_name": "Python 3 (ipykernel)",
   "language": "python",
   "name": "python3"
  },
  "language_info": {
   "codemirror_mode": {
    "name": "ipython",
    "version": 3
   },
   "file_extension": ".py",
   "mimetype": "text/x-python",
   "name": "python",
   "nbconvert_exporter": "python",
   "pygments_lexer": "ipython3",
   "version": "3.9.4"
  }
 },
 "nbformat": 4,
 "nbformat_minor": 5
}
