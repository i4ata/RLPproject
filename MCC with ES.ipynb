{
 "cells": [
  {
   "cell_type": "markdown",
   "id": "c453d215",
   "metadata": {},
   "source": [
    "# Monte Carlo Control with exploration starts"
   ]
  },
  {
   "cell_type": "code",
   "execution_count": 1,
   "id": "66f18bf6",
   "metadata": {},
   "outputs": [],
   "source": [
    "from blackjack import BlackJack\n",
    "import numpy as np\n",
    "import random\n",
    "import matplotlib.pyplot as plt\n",
    "import pandas as pd\n",
    "\n",
    "pd.set_option('display.max_rows', 180)"
   ]
  },
  {
   "cell_type": "code",
   "execution_count": 2,
   "id": "87691551",
   "metadata": {},
   "outputs": [
    {
     "name": "stdout",
     "output_type": "stream",
     "text": [
      "Object created\n",
      "0\n",
      "100000\n",
      "200000\n",
      "300000\n",
      "400000\n",
      "500000\n",
      "600000\n",
      "700000\n",
      "800000\n",
      "900000\n"
     ]
    }
   ],
   "source": [
    "game = BlackJack()\n",
    "epochs = 1_000_000\n",
    "alpha = .1\n",
    "\n",
    "actions = [\"hit\", \"stand\", \"double\"]\n",
    "\n",
    "# intialize Q(s,a) = 0, pi(s) = random a, N(s) = 0\n",
    "Q = {state : {a : 0 for a in actions} for state in game.states} # Q values\n",
    "pi = {state : random.choice(actions) for state in game.states} # policy\n",
    "N = {state : 0 for state in game.states} # number of times states are visited\n",
    "rewards = [0] * epochs\n",
    "\n",
    "for i in range(epochs):\n",
    "    \n",
    "    if i % (epochs / 10) == 0:\n",
    "        print(i)\n",
    "    \n",
    "    #game.start() # sample all states with probabilities proportional to the frequency of their occurence in a simulated game\n",
    "    game.start_from_state(random.choice(game.states)) # sample all states uniformly\n",
    "    \n",
    "    first = True\n",
    "    \n",
    "    visited_states = []\n",
    "    performed_actions = []\n",
    "    \n",
    "    while game.player_hand_sum < 21: # while the player hasn't busted\n",
    "        \n",
    "        state = game.get_current_state()\n",
    "        \n",
    "        action = pi[state] # greedy policy\n",
    "        \n",
    "        # if the state is first in the trajectory, the action is random\n",
    "        # that facilitates exploration starts\n",
    "        if first:\n",
    "            action = random.choice(actions)\n",
    "            first = False\n",
    "        \n",
    "        visited_states.append(state)\n",
    "        performed_actions.append(action)\n",
    "        \n",
    "        if action == \"hit\":\n",
    "            game.hit()\n",
    "        elif action == \"stand\":\n",
    "            game.stand() # if we stand, the round ends\n",
    "            break\n",
    "        else:\n",
    "            game.double() # if we double, the round ends because double = hit -> stand\n",
    "            break\n",
    "    \n",
    "    # store reward\n",
    "    reward = game.get_reward()\n",
    "    rewards[i] = reward\n",
    "    \n",
    "    # update Q\n",
    "    for s, a in zip(visited_states, performed_actions):\n",
    "        \n",
    "        N[s] += 1 # count occurences of states\n",
    "        \n",
    "        # update the Q-value\n",
    "        Q[s][a] += (reward - Q[s][a]) / N[s] # Q-value = mean of all returns \n",
    "        #Q[s][a] += alpha * (reward - Q[s][a]) # incremental update; recently observed returns are more valuable\n",
    "        \n",
    "    # update the policy\n",
    "    for s in visited_states:\n",
    "        \n",
    "        pi[s] = max(Q[s], key = Q[s].get)\n",
    "    "
   ]
  },
  {
   "cell_type": "code",
   "execution_count": 3,
   "id": "28ae2268",
   "metadata": {},
   "outputs": [
    {
     "name": "stdout",
     "output_type": "stream",
     "text": [
      "Winrate: 0.42635802033387815\n",
      "Drawrate: 0.08369488684596825\n",
      "Loserate: 0.4899470928201536\n",
      "Ws: 471106; Ls: 541369; Draws: 92479\n",
      "Profit: -68905\n",
      "Wins after doubling: 17099; Losses after doubling: 16327\n"
     ]
    }
   ],
   "source": [
    "game.test_policy(pi, 1_000_000)"
   ]
  },
  {
   "cell_type": "markdown",
   "id": "f3394e91",
   "metadata": {},
   "source": [
    "Below this are some plotting attempts"
   ]
  },
  {
   "cell_type": "code",
   "execution_count": 17,
   "id": "674dae51",
   "metadata": {},
   "outputs": [],
   "source": [
    "sums = [a for (a,_,_) in pi]\n",
    "ace = [b for (_,b,_) in pi]\n",
    "card = [c for (_,_,c) in pi]\n",
    "\n",
    "df = pd.DataFrame({\"sum\" : sums, \"ace\" : ace, \"card\" : card, \n",
    "                   \"action\" : pi.values(), \"n\" : N.values()})"
   ]
  },
  {
   "cell_type": "code",
   "execution_count": 18,
   "id": "fad939f9",
   "metadata": {},
   "outputs": [],
   "source": [
    "with_ace = df[df[\"ace\"] == True][[\"sum\", \"card\", \"action\"]]\n",
    "no_ace = df[df[\"ace\"] == False][[\"sum\", \"card\", \"action\"]]\n",
    "\n",
    "with_ace['action'] = with_ace['action'].map({\"hit\" : \"red\", \"stand\" : \"blue\", \"double\" : \"green\"})\n",
    "no_ace['action'] = no_ace['action'].map({\"hit\" : \"red\", \"stand\" : \"blue\", \"double\" : \"green\"})"
   ]
  },
  {
   "cell_type": "code",
   "execution_count": 19,
   "id": "3db49ef9",
   "metadata": {},
   "outputs": [
    {
     "data": {
      "image/png": "[encoded data removed]",
      "text/plain": [
       "<Figure size 432x288 with 1 Axes>"
      ]
     },
     "metadata": {
      "needs_background": "light"
     },
     "output_type": "display_data"
    }
   ],
   "source": [
    "plt.scatter(with_ace[\"card\"], with_ace[\"sum\"], c = with_ace[\"action\"])\n",
    "plt.show()"
   ]
  },
  {
   "cell_type": "code",
   "execution_count": 20,
   "id": "5d6d97a1",
   "metadata": {},
   "outputs": [
    {
     "data": {
      "image/png": "[encoded data removed]",
      "text/plain": [
       "<Figure size 432x288 with 1 Axes>"
      ]
     },
     "metadata": {
      "needs_background": "light"
     },
     "output_type": "display_data"
    }
   ],
   "source": [
    "plt.scatter(no_ace[\"card\"], no_ace[\"sum\"], c = no_ace[\"action\"])\n",
    "plt.show()"
   ]
  }
 ],
 "metadata": {
  "kernelspec": {
   "display_name": "Python 3 (ipykernel)",
   "language": "python",
   "name": "python3"
  },
  "language_info": {
   "codemirror_mode": {
    "name": "ipython",
    "version": 3
   },
   "file_extension": ".py",
   "mimetype": "text/x-python",
   "name": "python",
   "nbconvert_exporter": "python",
   "pygments_lexer": "ipython3",
   "version": "3.9.4"
  }
 },
 "nbformat": 4,
 "nbformat_minor": 5
}
