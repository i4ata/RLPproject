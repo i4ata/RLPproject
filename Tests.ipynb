{
 "cells": [
  {
   "cell_type": "code",
   "execution_count": 1,
   "id": "c207511c",
   "metadata": {},
   "outputs": [],
   "source": [
    "import numpy as np\n",
    "import pandas as pd\n",
    "from scipy.stats import chi2_contingency"
   ]
  },
  {
   "cell_type": "code",
   "execution_count": 2,
   "id": "ec683ddf",
   "metadata": {},
   "outputs": [
    {
     "data": {
      "text/html": [
       "<div>\n",
       "<style scoped>\n",
       "    .dataframe tbody tr th:only-of-type {\n",
       "        vertical-align: middle;\n",
       "    }\n",
       "\n",
       "    .dataframe tbody tr th {\n",
       "        vertical-align: top;\n",
       "    }\n",
       "\n",
       "    .dataframe thead th {\n",
       "        text-align: right;\n",
       "    }\n",
       "</style>\n",
       "<table border=\"1\" class=\"dataframe\">\n",
       "  <thead>\n",
       "    <tr style=\"text-align: right;\">\n",
       "      <th></th>\n",
       "      <th>MCCwES</th>\n",
       "      <th>MCCwoES</th>\n",
       "      <th>MCCoff</th>\n",
       "    </tr>\n",
       "  </thead>\n",
       "  <tbody>\n",
       "    <tr>\n",
       "      <th>-2</th>\n",
       "      <td>12014</td>\n",
       "      <td>16429</td>\n",
       "      <td>54347</td>\n",
       "    </tr>\n",
       "    <tr>\n",
       "      <th>-1</th>\n",
       "      <td>474899</td>\n",
       "      <td>472903</td>\n",
       "      <td>454911</td>\n",
       "    </tr>\n",
       "    <tr>\n",
       "      <th>0</th>\n",
       "      <td>89842</td>\n",
       "      <td>85321</td>\n",
       "      <td>70373</td>\n",
       "    </tr>\n",
       "    <tr>\n",
       "      <th>1</th>\n",
       "      <td>409841</td>\n",
       "      <td>407527</td>\n",
       "      <td>380900</td>\n",
       "    </tr>\n",
       "    <tr>\n",
       "      <th>2</th>\n",
       "      <td>13404</td>\n",
       "      <td>17820</td>\n",
       "      <td>39469</td>\n",
       "    </tr>\n",
       "  </tbody>\n",
       "</table>\n",
       "</div>"
      ],
      "text/plain": [
       "    MCCwES  MCCwoES  MCCoff\n",
       "-2   12014    16429   54347\n",
       "-1  474899   472903  454911\n",
       " 0   89842    85321   70373\n",
       " 1  409841   407527  380900\n",
       " 2   13404    17820   39469"
      ]
     },
     "execution_count": 2,
     "metadata": {},
     "output_type": "execute_result"
    }
   ],
   "source": [
    "df = pd.DataFrame(np.array([np.load(\"MCCwES.npy\"), np.load(\"MCCwoES.npy\"), np.load(\"MCCoff.npy\")]).T, \n",
    "                  index = [-2,-1,0,1,2], columns = [\"MCCwES\", \"MCCwoES\", \"MCCoff\"])\n",
    "df"
   ]
  },
  {
   "cell_type": "code",
   "execution_count": 3,
   "id": "03b5c4fe",
   "metadata": {},
   "outputs": [],
   "source": [
    "def show_chi2(chi2):\n",
    "    print(\"Chi2 test statistic: \" + str(chi2[0]) + \"\\np-value: \" + str(chi2[1]) + \"\\ndof: \" + str(chi2[2]))"
   ]
  },
  {
   "cell_type": "code",
   "execution_count": 4,
   "id": "0e24d0f3",
   "metadata": {},
   "outputs": [
    {
     "name": "stdout",
     "output_type": "stream",
     "text": [
      "Chi2 test statistic: 60114.65954421561\n",
      "p-value: 0.0\n",
      "dof: 8\n"
     ]
    }
   ],
   "source": [
    "chi2 = chi2_contingency(df)\n",
    "show_chi2(chi2)"
   ]
  },
  {
   "cell_type": "code",
   "execution_count": 5,
   "id": "a8c6b24b",
   "metadata": {},
   "outputs": [
    {
     "name": "stdout",
     "output_type": "stream",
     "text": [
      "['MCCwoES', 'MCCoff']\n",
      "Chi2 test statistic: 31178.695009364103\n",
      "p-value: 0.0\n",
      "dof: 4\n",
      "\n",
      "['MCCwES', 'MCCoff']\n",
      "Chi2 test statistic: 43709.17049228823\n",
      "p-value: 0.0\n",
      "dof: 4\n",
      "\n",
      "['MCCwES', 'MCCwoES']\n",
      "Chi2 test statistic: 1437.3043242420288\n",
      "p-value: 5.62929771312085e-310\n",
      "dof: 4\n",
      "\n"
     ]
    }
   ],
   "source": [
    "for col in df.columns:\n",
    "    new_df = df.drop(columns = col)\n",
    "    chi2 = chi2_contingency(new_df)\n",
    "    print(list(map(str, new_df.columns)))\n",
    "    show_chi2(chi2)\n",
    "    print()"
   ]
  },
  {
   "cell_type": "code",
   "execution_count": null,
   "id": "2920fb60",
   "metadata": {},
   "outputs": [],
   "source": []
  }
 ],
 "metadata": {
  "kernelspec": {
   "display_name": "Python 3 (ipykernel)",
   "language": "python",
   "name": "python3"
  },
  "language_info": {
   "codemirror_mode": {
    "name": "ipython",
    "version": 3
   },
   "file_extension": ".py",
   "mimetype": "text/x-python",
   "name": "python",
   "nbconvert_exporter": "python",
   "pygments_lexer": "ipython3",
   "version": "3.9.4"
  }
 },
 "nbformat": 4,
 "nbformat_minor": 5
}
