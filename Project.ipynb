{
 "cells": [
  {
   "cell_type": "code",
   "execution_count": 1,
   "id": "66f18bf6",
   "metadata": {},
   "outputs": [],
   "source": [
    "from blackjack import BlackJack"
   ]
  },
  {
   "cell_type": "code",
   "execution_count": 2,
   "id": "5f0f9a20",
   "metadata": {},
   "outputs": [
    {
     "name": "stdout",
     "output_type": "stream",
     "text": [
      "Here\n"
     ]
    },
    {
     "data": {
      "text/plain": [
       "<blackjack.BlackJack at 0x174bbd23d00>"
      ]
     },
     "execution_count": 2,
     "metadata": {},
     "output_type": "execute_result"
    }
   ],
   "source": [
    "BlackJack()"
   ]
  },
  {
   "cell_type": "code",
   "execution_count": null,
   "id": "06669cf4",
   "metadata": {},
   "outputs": [],
   "source": []
  }
 ],
 "metadata": {
  "kernelspec": {
   "display_name": "Python 3 (ipykernel)",
   "language": "python",
   "name": "python3"
  },
  "language_info": {
   "codemirror_mode": {
    "name": "ipython",
    "version": 3
   },
   "file_extension": ".py",
   "mimetype": "text/x-python",
   "name": "python",
   "nbconvert_exporter": "python",
   "pygments_lexer": "ipython3",
   "version": "3.9.4"
  }
 },
 "nbformat": 4,
 "nbformat_minor": 5
}
