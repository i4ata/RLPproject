{
 "cells": [
  {
   "cell_type": "code",
   "execution_count": 2,
   "id": "093974a4",
   "metadata": {},
   "outputs": [],
   "source": [
    "from blackjack import BlackJack\n",
    "import numpy as np\n",
    "import random\n",
    "\n",
    "from scipy.special import softmax\n",
    "\n",
    "random.seed(1234)\n",
    "np.random.seed(1234)"
   ]
  },
  {
   "cell_type": "code",
   "execution_count": 17,
   "id": "0fd9ca7b",
   "metadata": {},
   "outputs": [
    {
     "name": "stdout",
     "output_type": "stream",
     "text": [
      "New BlackJack game created\n",
      "New BlackJack game created\n"
     ]
    }
   ],
   "source": [
    "game = BlackJack()\n",
    "game_test = BlackJack()\n",
    "epochs = 500_000\n",
    "test_epochs = 100_000\n",
    "gamma = .9\n",
    "\n",
    "actions = [\"hit\", \"stand\", \"double\"]\n",
    "\n",
    "Q = {state : {a : 0 for a in actions} for state in game.states} # Q values\n",
    "C = {state : {a : 0 for a in actions} for state in game.states}\n",
    "\n",
    "pi = {state : random.choice(actions) for state in game.states} # policy\n",
    "mu = {state : {a : p for (a,p) in zip(actions, softmax([random.random() for _ in actions]))} for state in game.states}\n",
    "\n",
    "rewards = [0] * (epochs + 1)\n",
    "stats = []"
   ]
  },
  {
   "cell_type": "code",
   "execution_count": 18,
   "id": "af8e129d",
   "metadata": {},
   "outputs": [],
   "source": [
    "def choose_action(mu, state, actions):\n",
    "    return np.random.choice(actions, p = list(mu[state].values()))"
   ]
  },
  {
   "cell_type": "code",
   "execution_count": 19,
   "id": "3ee81727",
   "metadata": {},
   "outputs": [],
   "source": [
    "for i in range(epochs+1):\n",
    "    \n",
    "    if i % (epochs / 100) == 0:\n",
    "        #print(i)\n",
    "        stats.append(np.unique(game_test.test_policy(pi, test_epochs), return_counts = True)[1])\n",
    "        \n",
    "    \n",
    "    #game.start()\n",
    "    game.start_from_state(random.choice(game.states))\n",
    "    \n",
    "    visited_states = []\n",
    "    performed_actions = []\n",
    "    \n",
    "    while game.player_hand_sum < 21:\n",
    "        \n",
    "        state = game.get_current_state()\n",
    "        \n",
    "        action = choose_action(mu, state, actions)\n",
    "        \n",
    "        visited_states.append(state)\n",
    "        performed_actions.append(action)\n",
    "        \n",
    "        if action == \"hit\":\n",
    "            game.hit()\n",
    "        elif action == \"stand\":\n",
    "            game.stand()\n",
    "            break\n",
    "        else:\n",
    "            game.double()\n",
    "            break\n",
    "    \n",
    "    G = game.get_reward()\n",
    "    W = 1\n",
    "    \n",
    "    rewards[i] = G\n",
    "    \n",
    "    first = True\n",
    "    for s, a in zip(visited_states[::-1], performed_actions[::-1]):\n",
    "        \n",
    "        if not first:\n",
    "            G *= gamma\n",
    "        first = False\n",
    "            \n",
    "        C[s][a] += W\n",
    "        Q[s][a] += (W / C[s][a]) * (G - Q[s][a])\n",
    "        pi[s] = max(Q[s], key = Q[s].get)\n",
    "        W /= mu[s][a]"
   ]
  },
  {
   "cell_type": "code",
   "execution_count": null,
   "id": "06249627",
   "metadata": {},
   "outputs": [],
   "source": [
    "np.save(\"data/MCCoff\", stats)"
   ]
  },
  {
   "cell_type": "code",
   "execution_count": 5,
   "id": "4d68f47e",
   "metadata": {},
   "outputs": [
    {
     "name": "stdout",
     "output_type": "stream",
     "text": [
      "Winrate: 0.4270217096397896\n",
      "Drawrate: 0.06543118372695574\n",
      "Loserate: 0.5075471066332546\n",
      "Ws: 471856; Ls: 560836; Draws: 72301\n",
      "Profit: -103767\n",
      "Wins after doubling: 39469; Losses after doubling: 54347\n"
     ]
    }
   ],
   "source": [
    "rewards = game.test_policy(pi, 1_000_000)"
   ]
  },
  {
   "cell_type": "code",
   "execution_count": 6,
   "id": "b349198a",
   "metadata": {},
   "outputs": [],
   "source": [
    "rewards_freq = np.unique(rewards, return_counts = True)[1]\n",
    "np.save(\"MCCoff\", rewards_freq)"
   ]
  },
  {
   "cell_type": "code",
   "execution_count": 11,
   "id": "18b55448",
   "metadata": {},
   "outputs": [
    {
     "data": {
      "text/plain": [
       "array([0.0320586 , 0.08714432, 0.23688282, 0.64391426])"
      ]
     },
     "execution_count": 11,
     "metadata": {},
     "output_type": "execute_result"
    }
   ],
   "source": [
    "softmax([1,2,3,4])"
   ]
  }
 ],
 "metadata": {
  "kernelspec": {
   "display_name": "Python 3 (ipykernel)",
   "language": "python",
   "name": "python3"
  },
  "language_info": {
   "codemirror_mode": {
    "name": "ipython",
    "version": 3
   },
   "file_extension": ".py",
   "mimetype": "text/x-python",
   "name": "python",
   "nbconvert_exporter": "python",
   "pygments_lexer": "ipython3",
   "version": "3.9.4"
  }
 },
 "nbformat": 4,
 "nbformat_minor": 5
}
