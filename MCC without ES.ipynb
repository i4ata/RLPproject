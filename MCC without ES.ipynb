{
 "cells": [
  {
   "cell_type": "markdown",
   "id": "660b0156",
   "metadata": {},
   "source": [
    "# Monte Carlo Control without exploring starts"
   ]
  },
  {
   "cell_type": "code",
   "execution_count": 1,
   "id": "d4c1ed57",
   "metadata": {},
   "outputs": [],
   "source": [
    "from blackjack import BlackJack\n",
    "import numpy as np\n",
    "import random\n",
    "import matplotlib.pyplot as plt\n",
    "import pandas as pd\n",
    "\n",
    "pd.set_option('display.max_rows', 180)"
   ]
  },
  {
   "cell_type": "code",
   "execution_count": 2,
   "id": "4b540e77",
   "metadata": {},
   "outputs": [],
   "source": [
    "# pi is defined to be a e-greedy policy.\n",
    "# probability of exploiting: 1 - e; probability of exploring: e\n",
    "def choose_action(pi, state, epsilon, actions):\n",
    "    if random.random() < epsilon:\n",
    "        return random.choice(actions)\n",
    "    return pi[state]"
   ]
  },
  {
   "cell_type": "code",
   "execution_count": 3,
   "id": "3c7c9bcd",
   "metadata": {},
   "outputs": [
    {
     "name": "stdout",
     "output_type": "stream",
     "text": [
      "Object created\n",
      "0\n",
      "100000\n",
      "200000\n",
      "300000\n",
      "400000\n",
      "500000\n",
      "600000\n",
      "700000\n",
      "800000\n",
      "900000\n"
     ]
    }
   ],
   "source": [
    "# This is pretty much identical to MCC with ES. The difference is how we choose the actions.\n",
    "game = BlackJack()\n",
    "epochs = 1_000_000\n",
    "alpha = .1\n",
    "epsilon = .2\n",
    "\n",
    "actions = [\"hit\", \"stand\", \"double\"]\n",
    "\n",
    "Q = {state : {a : 0 for a in actions} for state in game.states}\n",
    "pi = {state : random.choice(actions) for state in game.states}\n",
    "N = {state : 0 for state in game.states}\n",
    "rewards = [0] * epochs\n",
    "\n",
    "for i in range(epochs):\n",
    "    \n",
    "    if i % (epochs / 10) == 0:\n",
    "        print(i)\n",
    "    \n",
    "    #game.start()\n",
    "    game.start_from_state(random.choice(game.states))\n",
    "    \n",
    "    first = True\n",
    "    \n",
    "    visited_states = []\n",
    "    performed_actions = []\n",
    "    \n",
    "    while game.player_hand_sum < 21:\n",
    "        \n",
    "        state = game.get_current_state()\n",
    "        \n",
    "        action = choose_action(pi, state, epsilon, actions)\n",
    "        \n",
    "        if first:\n",
    "            action = np.random.choice(actions)\n",
    "            first = False\n",
    "        \n",
    "        visited_states.append(state)\n",
    "        performed_actions.append(action)\n",
    "        \n",
    "        if action == \"hit\":\n",
    "            game.hit()\n",
    "        elif action == \"stand\":\n",
    "            game.stand()\n",
    "            break\n",
    "        else:\n",
    "            game.double()\n",
    "            break\n",
    "    \n",
    "    reward = game.get_reward()\n",
    "    rewards[i] = reward\n",
    "    \n",
    "    for s, a in zip(visited_states, performed_actions):\n",
    "        \n",
    "        N[s] += 1 # count occurences of states\n",
    "        \n",
    "        # update the Q-value\n",
    "        Q[s][a] += (reward - Q[s][a]) / N[s]\n",
    "        #Q[s][a] += alpha * (reward - Q[s][a])\n",
    "        \n",
    "    for s in visited_states:\n",
    "        \n",
    "        # update the policy\n",
    "        pi[s] = max(Q[s], key = Q[s].get)\n",
    "    "
   ]
  },
  {
   "cell_type": "code",
   "execution_count": 4,
   "id": "45e64357",
   "metadata": {},
   "outputs": [
    {
     "name": "stdout",
     "output_type": "stream",
     "text": [
      "Winrate: 0.4295282943744254\n",
      "Drawrate: 0.0803124796397779\n",
      "Loserate: 0.4901592259857967\n",
      "Ws: 474670; Ls: 541673; Draws: 88753\n",
      "Profit: -69128\n",
      "Wins after doubling: 23141; Losses after doubling: 25097\n"
     ]
    }
   ],
   "source": [
    "game.test_policy(pi, 1_000_000)"
   ]
  },
  {
   "cell_type": "code",
   "execution_count": null,
   "id": "c654b9b6",
   "metadata": {},
   "outputs": [],
   "source": []
  }
 ],
 "metadata": {
  "kernelspec": {
   "display_name": "Python 3 (ipykernel)",
   "language": "python",
   "name": "python3"
  },
  "language_info": {
   "codemirror_mode": {
    "name": "ipython",
    "version": 3
   },
   "file_extension": ".py",
   "mimetype": "text/x-python",
   "name": "python",
   "nbconvert_exporter": "python",
   "pygments_lexer": "ipython3",
   "version": "3.9.4"
  }
 },
 "nbformat": 4,
 "nbformat_minor": 5
}
