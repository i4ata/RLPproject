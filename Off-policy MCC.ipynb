{
 "cells": [
  {
   "cell_type": "code",
   "execution_count": 1,
   "id": "ad4ad955",
   "metadata": {},
   "outputs": [],
   "source": [
    "from blackjack import BlackJack\n",
    "import numpy as np\n",
    "import random\n",
    "\n",
    "from scipy.special import softmax\n",
    "\n",
    "random.seed(1234)\n",
    "np.random.seed(1234)"
   ]
  },
  {
   "cell_type": "code",
   "execution_count": 6,
   "id": "7b554e17",
   "metadata": {},
   "outputs": [
    {
     "name": "stdout",
     "output_type": "stream",
     "text": [
      "New BlackJack game created\n"
     ]
    }
   ],
   "source": [
    "game = BlackJack()\n",
    "epochs = 1_000_000\n",
    "alpha = .1\n",
    "\n",
    "actions = [\"hit\", \"stand\", \"double\"]\n",
    "\n",
    "Q = {state : {a : 0 for a in actions} for state in game.states} # Q values\n",
    "C = {state : {a : 0 for a in actions} for state in game.states}\n",
    "\n",
    "pi = {state : random.choice(actions) for state in game.states} # policy\n",
    "mu = {state : {a : p for (a,p) in zip(actions, softmax([random.random() for _ in actions]))} for state in game.states}\n",
    "\n",
    "rewards = [0] * epochs"
   ]
  },
  {
   "cell_type": "code",
   "execution_count": 8,
   "id": "95619cfd",
   "metadata": {},
   "outputs": [],
   "source": [
    "def choose_action(mu, state, actions):\n",
    "    return np.random.choice(actions, p = list(mu[state].values()))"
   ]
  },
  {
   "cell_type": "code",
   "execution_count": 13,
   "id": "24a1322b",
   "metadata": {},
   "outputs": [
    {
     "name": "stdout",
     "output_type": "stream",
     "text": [
      "0\n",
      "100000\n",
      "200000\n",
      "300000\n",
      "400000\n",
      "500000\n",
      "600000\n",
      "700000\n",
      "800000\n",
      "900000\n"
     ]
    }
   ],
   "source": [
    "for i in range(epochs):\n",
    "    \n",
    "    if i % (epochs / 10) == 0:\n",
    "        print(i)\n",
    "        \n",
    "    \n",
    "    #game.start()\n",
    "    game.start_from_state(random.choice(game.states))\n",
    "    \n",
    "    visited_states = []\n",
    "    performed_actions = []\n",
    "    \n",
    "    while game.player_hand_sum < 21:\n",
    "        \n",
    "        state = game.get_current_state()\n",
    "        \n",
    "        action = choose_action(mu, state, actions)\n",
    "        \n",
    "        visited_states.append(state)\n",
    "        performed_actions.append(action)\n",
    "        \n",
    "        if action == \"hit\":\n",
    "            game.hit()\n",
    "        elif action == \"stand\":\n",
    "            game.stand()\n",
    "            break\n",
    "        else:\n",
    "            game.double()\n",
    "            break\n",
    "    \n",
    "    G = game.get_reward()\n",
    "    W = 1\n",
    "    \n",
    "    rewards[i] = G\n",
    "    \n",
    "    for s, a in zip(visited_states[::-1], performed_actions[::-1]):\n",
    "        C[s][a] += W\n",
    "        Q[s][a] += (W / C[s][a]) * (G - Q[s][a])\n",
    "        pi[s] = max(Q[s], key = Q[s].get)\n",
    "        W /= mu[s][a]"
   ]
  },
  {
   "cell_type": "code",
   "execution_count": 14,
   "id": "6089c7e0",
   "metadata": {},
   "outputs": [
    {
     "name": "stdout",
     "output_type": "stream",
     "text": [
      "Winrate: 0.4282367186481908\n",
      "Drawrate: 0.06748819918045842\n",
      "Loserate: 0.5042750821713508\n",
      "Ws: 473205; Ls: 557228; Draws: 74575\n",
      "Profit: -110785\n",
      "Wins after doubling: 47118; Losses after doubling: 73978\n"
     ]
    }
   ],
   "source": [
    "game.test_policy(pi, 1_000_000)"
   ]
  },
  {
   "cell_type": "code",
   "execution_count": null,
   "id": "a7815d1c",
   "metadata": {},
   "outputs": [],
   "source": []
  }
 ],
 "metadata": {
  "kernelspec": {
   "display_name": "Python 3 (ipykernel)",
   "language": "python",
   "name": "python3"
  },
  "language_info": {
   "codemirror_mode": {
    "name": "ipython",
    "version": 3
   },
   "file_extension": ".py",
   "mimetype": "text/x-python",
   "name": "python",
   "nbconvert_exporter": "python",
   "pygments_lexer": "ipython3",
   "version": "3.9.4"
  }
 },
 "nbformat": 4,
 "nbformat_minor": 5
}
